{
 "cells": [
  {
   "cell_type": "code",
   "execution_count": 34,
   "metadata": {
    "collapsed": false
   },
   "outputs": [],
   "source": [
    "from numpy import array, dot, outer, sqrt, matrix\n",
    "from numpy.linalg import eig, eigvals\n",
    "from matplotlib.pyplot import hist"
   ]
  },
  {
   "cell_type": "code",
   "execution_count": 17,
   "metadata": {
    "collapsed": true
   },
   "outputs": [],
   "source": [
    "#4.3\n",
    "# |psi> = Ch|H>+Cv|V>\n",
    "# |Ph|psi> = Ch|H>\n",
    "\n",
    "# <psi|Ph = <H|Ch.dag()+<V|Cv.dag() * |H><H|\n",
    "# = 1"
   ]
  },
  {
   "cell_type": "code",
   "execution_count": 18,
   "metadata": {
    "collapsed": false
   },
   "outputs": [
    {
     "data": {
      "text/latex": [
       "Quantum object: dims = [[2], [2]], shape = [2, 2], type = oper, isherm = True\\begin{equation*}\\left(\\begin{array}{*{11}c}1.0 & 0.0\\\\0.0 & 0.0\\\\\\end{array}\\right)\\end{equation*}"
      ],
      "text/plain": [
       "Quantum object: dims = [[2], [2]], shape = [2, 2], type = oper, isherm = True\n",
       "Qobj data =\n",
       "[[ 1.  0.]\n",
       " [ 0.  0.]]"
      ]
     },
     "execution_count": 18,
     "metadata": {},
     "output_type": "execute_result"
    }
   ],
   "source": [
    "H = Qobj([[1],[0]])\n",
    "V = Qobj([[0],[1]])\n",
    "\n",
    "(H*H.dag()+V*V.dag())*(H*H.dag())"
   ]
  },
  {
   "cell_type": "code",
   "execution_count": 19,
   "metadata": {
    "collapsed": false
   },
   "outputs": [
    {
     "data": {
      "text/latex": [
       "Quantum object: dims = [[2], [2]], shape = [2, 2], type = oper, isherm = True\\begin{equation*}\\left(\\begin{array}{*{11}c}1.0 & 0.0\\\\0.0 & 1.0\\\\\\end{array}\\right)\\end{equation*}"
      ],
      "text/plain": [
       "Quantum object: dims = [[2], [2]], shape = [2, 2], type = oper, isherm = True\n",
       "Qobj data =\n",
       "[[ 1.  0.]\n",
       " [ 0.  1.]]"
      ]
     },
     "execution_count": 19,
     "metadata": {},
     "output_type": "execute_result"
    }
   ],
   "source": [
    "#4.4\n",
    "def Rp(theta):\n",
    "    return Qobj([[cos(theta),-sin(theta)],[sin(theta),cos(theta)]]).tidyup()\n",
    "\n",
    "Rp(pi/2).dag()*Rp(pi/2)\n",
    "#identity matrix shown"
   ]
  },
  {
   "cell_type": "code",
   "execution_count": 20,
   "metadata": {
    "collapsed": false
   },
   "outputs": [
    {
     "data": {
      "text/plain": [
       "(array([ 1.]),\n",
       " array([ Quantum object: dims = [[1], [1]], shape = [1, 1], type = oper, isherm = True\n",
       " Qobj data =\n",
       " [[ 1.]]], dtype=object))"
      ]
     },
     "execution_count": 20,
     "metadata": {},
     "output_type": "execute_result"
    }
   ],
   "source": [
    "#4.14\n",
    "P45 = Qobj([[1/sqrt(2)],[1/sqrt(2)]])\n",
    "J = P45.dag()*P45\n",
    "\n",
    "J.eigenstates()\n",
    "#this makes sense. It is equivalent to <H|V> which we know is 1"
   ]
  },
  {
   "cell_type": "code",
   "execution_count": 21,
   "metadata": {
    "collapsed": false
   },
   "outputs": [
    {
     "data": {
      "text/plain": [
       "(array([  0.00000000e+00+1.j,   2.77555756e-17-1.j]),\n",
       " array([ Quantum object: dims = [[2], [1]], shape = [2, 1], type = ket\n",
       " Qobj data =\n",
       " [[ 0.70710678+0.j        ]\n",
       "  [ 0.00000000-0.70710678j]],\n",
       "        Quantum object: dims = [[2], [1]], shape = [2, 1], type = ket\n",
       " Qobj data =\n",
       " [[ 0.70710678+0.j        ]\n",
       "  [ 0.00000000+0.70710678j]]], dtype=object))"
      ]
     },
     "execution_count": 21,
     "metadata": {},
     "output_type": "execute_result"
    }
   ],
   "source": [
    "#4.15\n",
    "\n",
    "M = Rp(pi/2)\n",
    "\n",
    "M.eigenstates()"
   ]
  },
  {
   "cell_type": "code",
   "execution_count": 38,
   "metadata": {
    "collapsed": false
   },
   "outputs": [
    {
     "data": {
      "text/latex": [
       "Quantum object: dims = [[2], [2]], shape = [2, 2], type = oper, isherm = True\\begin{equation*}\\left(\\begin{array}{*{11}c}1.0 & 0.0\\\\0.0 & -1.0\\\\\\end{array}\\right)\\end{equation*}"
      ],
      "text/plain": [
       "Quantum object: dims = [[2], [2]], shape = [2, 2], type = oper, isherm = True\n",
       "Qobj data =\n",
       "[[ 1.  0.]\n",
       " [ 0. -1.]]"
      ]
     },
     "execution_count": 38,
     "metadata": {},
     "output_type": "execute_result"
    }
   ],
   "source": [
    "#4.19\n",
    "\n",
    "Phv = H*H.dag() - V*V.dag()\n",
    "Phv"
   ]
  },
  {
   "cell_type": "code",
   "execution_count": 40,
   "metadata": {
    "collapsed": false
   },
   "outputs": [
    {
     "data": {
      "text/plain": [
       "array([ 1., -1.])"
      ]
     },
     "execution_count": 40,
     "metadata": {},
     "output_type": "execute_result"
    }
   ],
   "source": [
    "Phv = ([1,0],[0,-1])\n",
    "lamda = eigvals(Phv)\n",
    "lamda"
   ]
  },
  {
   "cell_type": "code",
   "execution_count": 41,
   "metadata": {
    "collapsed": false
   },
   "outputs": [
    {
     "data": {
      "text/plain": [
       "array([[ 2.71828183, -1.        ],\n",
       "       [ 1.        , -0.36787944]])"
      ]
     },
     "execution_count": 41,
     "metadata": {},
     "output_type": "execute_result"
    }
   ],
   "source": [
    "(exp(Phv))*lamda"
   ]
  }
 ],
 "metadata": {
  "kernelspec": {
   "display_name": "Python 3",
   "language": "python",
   "name": "python3"
  },
  "language_info": {
   "codemirror_mode": {
    "name": "ipython",
    "version": 3
   },
   "file_extension": ".py",
   "mimetype": "text/x-python",
   "name": "python",
   "nbconvert_exporter": "python",
   "pygments_lexer": "ipython3",
   "version": "3.4.4"
  }
 },
 "nbformat": 4,
 "nbformat_minor": 0
}
