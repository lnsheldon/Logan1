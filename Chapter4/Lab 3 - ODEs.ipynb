{
 "cells": [
  {
   "cell_type": "markdown",
   "metadata": {},
   "source": [
    "# Lab 3 - ODEs\n",
    "This notebook is a template for your lab activities on ODEs.\n",
    "\n",
    "1) Complete your integrator problem from Wed. Create a graph showing position vs time for a variety of initial velocities or positions (whichever is sensible for the problem). Make at least one of each kind of graph (x vs t and v vs t).\n",
    "\n",
    "2) Implement `odeint` on the spring-pendulum in Example 4.5.1. Start from the picture and associated equations and write the (four) first order ODE's. Next, code the `derivs` function and any additional code to solve the systems motion. Try to do this without looking at the book. As you do this, think about what to plot that would most clearly illustrate the motion.\n",
    "\n",
    "3) Implement `odeint` for damped, driven harmonic oscillator (Example 4.5.2). Notice that this includes time in the `derivs` function. Plot the results for a variety of initial parameter values (but keep the same initial conditions). Identify when the system is over-damped and when it is under-damped."
   ]
  },
  {
   "cell_type": "code",
   "execution_count": 2,
   "metadata": {
    "collapsed": false
   },
   "outputs": [
    {
     "name": "stdout",
     "output_type": "stream",
     "text": [
      "Populating the interactive namespace from numpy and matplotlib\n"
     ]
    }
   ],
   "source": [
    "%pylab inline\n",
    "from scipy.integrate import odeint"
   ]
  },
  {
   "cell_type": "markdown",
   "metadata": {
    "collapsed": true
   },
   "source": [
    "### Looping through initial values\n",
    "\n",
    "One of the values of doing numerical computations is that you can quickly examine the behavior of a system as a function of different parameters of the problem.  For example, you can look at how the position vs time changes as you change an initial velocity.\n",
    "\n",
    "One way to do this for for these differential equation solvers is to add a third dimension to the solutions array that the solvers work with (\"Y\"), to hold the results of each iteration.\n",
    "\n",
    "Let's practice using a 3D array.  Suppose we're using Runke-Kutta to evaluate the FreeFall example for several values of initial velocity v0.  You will need a 3D array to hold the 2D array of results for each iteration of parameter v0.\n",
    "How do you index this 3D array?\n",
    "\n",
    "1. Start by using the zeros() function to initialize a 3D array  with 3 “sheets”, 20 rows, and 2 cols.  (How many time points will this hold? How many different v0 values will it hold?)\n",
    "2. Set the 5th time step values of position and velocity of the 2nd v0 iteration to pos=2, vel=5\n",
    "3. Set the initial value of position to 20 and initial value of velocity to 10 for all iterations of v0\n",
    "4. Write a set of for loops to fill this 3D array with:\n",
    "0, 0\n",
    "2, 1\n",
    "4, 3\n",
    "6, 5\n",
    "8, 7\n",
    "etc.\n",
    "in first sheet and \n",
    "0, 0\n",
    "20, 10\n",
    "40, 30\n",
    "60, 50\n",
    "80, 70\n",
    "in second sheet, and \n",
    "0, 0\n",
    "200, 100\n",
    "400, 300\n",
    "600, 500\n",
    "800, 700\n",
    "etc.\n",
    "\n",
    "5. Now, say you want to pull out a 2D array holding the rows+cols of the 2nd iteration.  How do you do it? \n",
    "\n",
    "\n",
    "\n"
   ]
  },
  {
   "cell_type": "code",
   "execution_count": 17,
   "metadata": {
    "collapsed": false
   },
   "outputs": [
    {
     "ename": "TypeError",
     "evalue": "'numpy.ndarray' object is not callable",
     "output_type": "error",
     "traceback": [
      "\u001b[1;31m---------------------------------------------------------------------------\u001b[0m",
      "\u001b[1;31mTypeError\u001b[0m                                 Traceback (most recent call last)",
      "\u001b[1;32m<ipython-input-17-8dfeccb155e0>\u001b[0m in \u001b[0;36m<module>\u001b[1;34m()\u001b[0m\n\u001b[0;32m     18\u001b[0m     \u001b[0mArray_3d\u001b[0m\u001b[1;33m(\u001b[0m\u001b[0mi\u001b[0m\u001b[1;33m*\u001b[0m\u001b[1;36m100\u001b[0m\u001b[1;33m,\u001b[0m\u001b[0mi\u001b[0m\u001b[1;33m*\u001b[0m\u001b[1;36m200\u001b[0m\u001b[1;33m,\u001b[0m\u001b[1;36m3\u001b[0m\u001b[1;33m)\u001b[0m\u001b[1;33m\u001b[0m\u001b[0m\n\u001b[0;32m     19\u001b[0m \u001b[1;33m\u001b[0m\u001b[0m\n\u001b[1;32m---> 20\u001b[1;33m \u001b[0mArray_3d\u001b[0m\u001b[1;33m(\u001b[0m\u001b[1;36m0\u001b[0m\u001b[1;33m,\u001b[0m\u001b[1;36m0\u001b[0m\u001b[1;33m,\u001b[0m\u001b[1;36m3\u001b[0m\u001b[1;33m)\u001b[0m\u001b[1;33m\u001b[0m\u001b[0m\n\u001b[0m",
      "\u001b[1;31mTypeError\u001b[0m: 'numpy.ndarray' object is not callable"
     ]
    }
   ],
   "source": [
    "A=0\n",
    "B=0\n",
    "C=0\n",
    "N = 3\n",
    "pos=zeros(N)\n",
    "vel=zeros(N)\n",
    "pos[0,0,:]=20\n",
    "vel[0,1,:]=10\n",
    "\n",
    "Array_3d = zeros((20,2,3))\n",
    "pos[4,0,1]=2\n",
    "vel[4,1,1]=5\n",
    "i=20\n",
    "j=2\n",
    "for C in range (i-1):\n",
    "    Array_3d[A,B,C]\n",
    "    \n",
    "    for B in range (j-1):\n",
    "        Array_3d[A,B,C]=\n",
    "        \n",
    "        for A in range(N-1):\n",
    "            Array_3d[A,B,C]=A\n"
   ]
  },
  {
   "cell_type": "code",
   "execution_count": null,
   "metadata": {
    "collapsed": true
   },
   "outputs": [],
   "source": [
    "from pylab import ∗\n",
    "from scipy.integrate import odeint\n",
    "N = 1000 \n",
    "\n",
    "y = zeros([4])\n",
    "Lo = 1.0\n",
    "L = 1.0\n",
    "Vo = 0.0\n",
    "Theta_o = 0.3\n",
    "Omega_o = 0.0 \n",
    "y [0] = L \n",
    "y [1] = V_o\n",
    "y [2] = theta o\n",
    "y [3] = omegao\n",
    "time = linspace(0,25,N)\n",
    "k = 3.5 \n",
    "m = 0.2 \n",
    "gravity = 9.8 \n",
    "def spring_pendulum( y , time ) :\n",
    "\n",
    "g0 = y [1]\n",
    "g1 = (Lo+y[0]) ∗ y [ 3 ] ∗ y [ 3 ] − k/m∗y [ 0 ] + g r a vi t y ∗ c o s ( y [ 2 ] )\n",
    "g2 = y [ 3 ]\n",
    "g3 = −( g r a vi t y ∗ s i n ( y [ 2 ] ) + 2. 0 ∗ y [ 1 ] ∗ y [ 3 ] ) / ( L o + y [ 0 ] )\n",
    "return a r r a y ( [ g0 , g1 , g2 , g3 ] )\n",
    "\n",
    "answer = o d ei n t ( spring pendulum , y , time )\n",
    "\n",
    "xdata = ( L o + answer [ : , 0 ] ) ∗ s i n ( answer [ : , 2 ] )\n",
    "ydata = −(L o + answer [ : , 0 ] ) ∗ c o s ( answer [ : , 2 ] )\n",
    "pl o t ( xdata , ydata , ’ r−’ )\n",
    "x l a b e l ( ” H o ri z o n t al p o s i t i o n ” )\n",
    "y l a b e l ( ” V e r t i c a l p o s i t i o n ” )\n",
    "show ( )\n",
    "\n"
   ]
  }
 ],
 "metadata": {
  "kernelspec": {
   "display_name": "Python 3",
   "language": "python",
   "name": "python3"
  },
  "language_info": {
   "codemirror_mode": {
    "name": "ipython",
    "version": 3
   },
   "file_extension": ".py",
   "mimetype": "text/x-python",
   "name": "python",
   "nbconvert_exporter": "python",
   "pygments_lexer": "ipython3",
   "version": "3.4.4"
  }
 },
 "nbformat": 4,
 "nbformat_minor": 0
}
