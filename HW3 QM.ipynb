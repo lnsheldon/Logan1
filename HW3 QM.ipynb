{
 "cells": [
  {
   "cell_type": "code",
   "execution_count": 1,
   "metadata": {
    "collapsed": false
   },
   "outputs": [
    {
     "name": "stdout",
     "output_type": "stream",
     "text": [
      "Populating the interactive namespace from numpy and matplotlib\n"
     ]
    }
   ],
   "source": [
    "%pylab inline\n",
    "from qutip import *"
   ]
  },
  {
   "cell_type": "code",
   "execution_count": 2,
   "metadata": {
    "collapsed": true
   },
   "outputs": [],
   "source": [
    "H = Qobj([[1],[0]])\n",
    "V = Qobj([[0],[1]])\n",
    "P45 = Qobj([[1/sqrt(2)],[1/sqrt(2)]])\n",
    "M45 = Qobj([[1/sqrt(2)],[-1/sqrt(2)]])\n",
    "R = Qobj([[1/sqrt(2)],[-1j/sqrt(2)]])\n",
    "L = Qobj([[1/sqrt(2)],[1j/sqrt(2)]])"
   ]
  },
  {
   "cell_type": "code",
   "execution_count": 4,
   "metadata": {
    "collapsed": false
   },
   "outputs": [],
   "source": [
    "#3.1\n",
    "\n",
    "#LP(theta) = cos(theta)*H + sin(theta)*V"
   ]
  },
  {
   "cell_type": "code",
   "execution_count": 2,
   "metadata": {
    "collapsed": true
   },
   "outputs": [],
   "source": [
    "#3.4\n",
    "#a) #PA(theta) = cos(theta) + sin(theta)\n",
    "# V goes through -> sin(theta)\n",
    "# H goes through -> cos(theta)\n",
    "# = sin(theta)*cos(theta)\n",
    "# P = sin(theta)**2*cos(theta)**2\n",
    "\n",
    "#b) theta = 45\n",
    "# sin(45)**2*cos(45)**2 = .25\n",
    "\n",
    "#c) 0 because all of the V will be blocked and polarization will yield 0 H"
   ]
  },
  {
   "cell_type": "code",
   "execution_count": 3,
   "metadata": {
    "collapsed": true
   },
   "outputs": [],
   "source": [
    "#3.11\n",
    "\n",
    "# No, the beam would not be split initially by the polarizer resulting in a single beam throughout the setup.\n",
    "# interference would not happen because there is only 1 beam"
   ]
  },
  {
   "cell_type": "code",
   "execution_count": 4,
   "metadata": {
    "collapsed": true
   },
   "outputs": [],
   "source": [
    "#3.13\n",
    "\n",
    "# H -> PA(HV) \n",
    "#a) 100% for +1\n",
    "# the beam would remain horizontal\n",
    "\n",
    "#b) 1/1 = 1\n",
    "\n",
    "#c) std. dev. = sqrt(((1/1)**2)-(1)**2) =  0"
   ]
  },
  {
   "cell_type": "code",
   "execution_count": null,
   "metadata": {
    "collapsed": true
   },
   "outputs": [],
   "source": [
    "#3.14\n",
    "\n",
    "#-45 -> PA(HV)\n",
    "#a) 50% for +1 and -1\n",
    "# the beam would be split into horizontal and vertical\n",
    "\n",
    "#b) (1 + (-1))/2 = 0\n",
    "\n",
    "#c) std. dev. = sqrt(((2/2)**2)-(0)**2) = 1"
   ]
  }
 ],
 "metadata": {
  "kernelspec": {
   "display_name": "Python 3",
   "language": "python",
   "name": "python3"
  },
  "language_info": {
   "codemirror_mode": {
    "name": "ipython",
    "version": 3
   },
   "file_extension": ".py",
   "mimetype": "text/x-python",
   "name": "python",
   "nbconvert_exporter": "python",
   "pygments_lexer": "ipython3",
   "version": "3.4.4"
  }
 },
 "nbformat": 4,
 "nbformat_minor": 0
}
