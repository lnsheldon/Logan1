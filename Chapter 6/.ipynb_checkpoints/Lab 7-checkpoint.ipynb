{
 "cells": [
  {
   "cell_type": "markdown",
   "metadata": {},
   "source": [
    "In this notebook, you will complete a simple calculation for the value of Pi. Of course, we know Pi already but the reason to code this is to get some experience using monte carlo (i.e. random number) approaches to solving complex problems."
   ]
  },
  {
   "cell_type": "code",
   "execution_count": 1,
   "metadata": {
    "collapsed": true
   },
   "outputs": [],
   "source": [
    "import numpy as np\n",
    "import numpy.random as nprand\n",
    "import matplotlib.pyplot as plt\n",
    "%matplotlib inline"
   ]
  },
  {
   "cell_type": "markdown",
   "metadata": {},
   "source": [
    "To compute Pi, we want to find the area of a quarter circle by counting the fraction of points that land inside the circle. The following steps will help you implement this:\n",
    "\n",
    "1. What is the test to check if an x,y point is inside the circle?\n",
    "\n",
    "2. Write code that repeats the following steps:\n",
    "    - generate a random x,y pair within the coordinates [0,1)\n",
    "    - tests if the point x,y is within the quarter-circle\n",
    "    - increment a counter for points that are within the circle\n",
    "    \n",
    "3. How do you convert from a count of \"points within the circle\" to an area? How do you correct for the fact that we only have a quarter circle in this calculation?\n",
    "\n",
    "4. Bonus: Create a plot that shows how the value converges to an answer (you may have to modify parts of the code to save data for this plot). "
   ]
  },
  {
   "cell_type": "code",
   "execution_count": 67,
   "metadata": {
    "collapsed": true
   },
   "outputs": [],
   "source": [
    "N = 1000"
   ]
  },
  {
   "cell_type": "code",
   "execution_count": 59,
   "metadata": {
    "collapsed": false
   },
   "outputs": [],
   "source": [
    "def randarray(N,a=0,b=100,method=nprand):\n",
    "    #return np.array([method.randint(a,b) for i in range(N)])\n",
    "    return np.array([method.random() for i in range(N)])"
   ]
  },
  {
   "cell_type": "code",
   "execution_count": 60,
   "metadata": {
    "collapsed": false
   },
   "outputs": [],
   "source": [
    "#pydata = ([randarray(N,method=nprand),randarray(N,method=nprand)])"
   ]
  },
  {
   "cell_type": "code",
   "execution_count": 61,
   "metadata": {
    "collapsed": false
   },
   "outputs": [],
   "source": [
    "pydatax = (randarray(N,method=nprand))\n",
    "pydatay = (randarray(N,method=nprand))"
   ]
  },
  {
   "cell_type": "code",
   "execution_count": 62,
   "metadata": {
    "collapsed": false
   },
   "outputs": [],
   "source": [
    "counts_in = 0\n",
    "\n",
    "for i in range (N):\n",
    "    r=np.sqrt(pydatax[i]**2+pydatay[i]**2)\n",
    "    if r < 1:\n",
    "        counts_in = counts_in + 1\n",
    "        \n",
    "area=(counts_in/N)*4"
   ]
  },
  {
   "cell_type": "code",
   "execution_count": 63,
   "metadata": {
    "collapsed": false
   },
   "outputs": [
    {
     "data": {
      "text/plain": [
       "3.1368"
      ]
     },
     "execution_count": 63,
     "metadata": {},
     "output_type": "execute_result"
    }
   ],
   "source": [
    "area"
   ]
  },
  {
   "cell_type": "code",
   "execution_count": 64,
   "metadata": {
    "collapsed": false
   },
   "outputs": [],
   "source": [
    "counts_in = 0\n",
    "area=np.zeros([N])\n",
    "\n",
    "for i in range (N):\n",
    "    r=np.sqrt(pydatax[i]**2+pydatay[i]**2)\n",
    "    if r < 1:\n",
    "        counts_in = counts_in + 1\n",
    "    area[i]=(counts_in/(i+1))*4\n"
   ]
  },
  {
   "cell_type": "code",
   "execution_count": 65,
   "metadata": {
    "collapsed": false
   },
   "outputs": [
    {
     "data": {
      "text/plain": [
       "<function matplotlib.pyplot.semilogx>"
      ]
     },
     "execution_count": 65,
     "metadata": {},
     "output_type": "execute_result"
    },
    {
     "data": {
      "image/png": "[encoded data removed]",
      "text/plain": [
       "<matplotlib.figure.Figure at 0x9109a20>"
      ]
     },
     "metadata": {},
     "output_type": "display_data"
    }
   ],
   "source": [
    "plt.plot(area)\n",
    "plt.xlim(-10,10000)\n",
    "plt.semilogx"
   ]
  },
  {
   "cell_type": "markdown",
   "metadata": {},
   "source": [
    "counts_in = 0\n",
    "area=np.zeros([N])\n",
    "S = 6\n",
    "\n",
    "for j in range (S):\n",
    "    for i in range (N):\n",
    "        pydatax = (randarray(N,method=nprand))\n",
    "        pydatay = (randarray(N,method=nprand))\n",
    "        r=np.sqrt(pydatax[i]**2+pydatay[i]**2)\n",
    "        if r < 1:\n",
    "            counts_in = counts_in + 1\n",
    "        area[i]=(counts_in/(i+1))*4\n",
    "        plt.plot(area,\".\")\n",
    "plt.xlim(-1,1000)\n",
    "plt.ylim(-10,100)"
   ]
  },
  {
   "cell_type": "markdown",
   "metadata": {},
   "source": [
    "counts_in = 0\n",
    "area=np.zeros([N])\n",
    "S = 6\n",
    "N=10\n",
    "\n",
    "for i in range (S):\n",
    "    N=N**(i+1)\n",
    "    pydatax = (randarray(N,method=nprand))\n",
    "    pydatay = (randarray(N,method=nprand))\n",
    "    r=np.sqrt(pydatax[i]**2+pydatay[i]**2)\n",
    "    if r < 1:\n",
    "        counts_in = counts_in + 1\n",
    "    area[i]=(counts_in/(i+1))*4\n",
    "plt.plot(area)\n",
    "plt.xlim(-10,10000)\n",
    "plt.semilogx"
   ]
  },
  {
   "cell_type": "markdown",
   "metadata": {},
   "source": [
    "pydatax = (randarray(N,method=nprand))\n",
    "pydatay = (randarray(N,method=nprand))\n",
    "counts_in = 0\n",
    "area=np.zeros([N])\n",
    "S=6\n",
    "N=10\n",
    "\n",
    "for j in range(S):\n",
    "    N = N**j\n",
    "    for i in range (N):\n",
    "        r=np.sqrt(pydatax[i]**2+pydatay[i]**2)\n",
    "        if r < 1:\n",
    "            counts_in = counts_in + 1\n",
    "        area[i]=(counts_in/(i+1))*4\n",
    "        plt.plot(area[i])"
   ]
  },
  {
   "cell_type": "markdown",
   "metadata": {
    "collapsed": true
   },
   "source": [
    "S=6\n",
    "N=np.zeros([S])\n",
    "P=10\n",
    "int(N[0])=10\n",
    "int(N[1])=100\n",
    "int(N[2])=1000\n",
    "int(N[3])=10000\n",
    "int(N[4])=100000\n",
    "int(N[5])=1000000\n",
    "for j in range (S):\n",
    "    for i in range((P**j)):\n",
    "        r=np.sqrt(pydatax[i]**2+pydatay[i]**2)\n",
    "        if r < 1:\n",
    "            counts_in = counts_in + 1\n",
    "        area[i]=(counts_in/(i+1))*4\n",
    "        plt.plot(area)\n",
    "plt.semilogx"
   ]
  },
  {
   "cell_type": "code",
   "execution_count": 70,
   "metadata": {
    "collapsed": false
   },
   "outputs": [
    {
     "data": {
      "text/plain": [
       "(1, 5)"
      ]
     },
     "execution_count": 70,
     "metadata": {},
     "output_type": "execute_result"
    },
    {
     "data": {
      "image/png": "[encoded data removed]",
      "text/plain": [
       "<matplotlib.figure.Figure at 0xa29bfd0>"
      ]
     },
     "metadata": {},
     "output_type": "display_data"
    }
   ],
   "source": [
    "counts_in = 0\n",
    "area=np.zeros([N])\n",
    "S=6\n",
    "\n",
    "for j in range(S):\n",
    "    counts_in = 0\n",
    "    for i in range (N):\n",
    "        pydatax = (randarray(N,method=nprand))\n",
    "        pydatay = (randarray(N,method=nprand))\n",
    "        r=np.sqrt(pydatax[i]**2+pydatay[i]**2)\n",
    "        if r < 1:\n",
    "            counts_in = counts_in + 1\n",
    "        area[i]=(counts_in/(i+1))*4\n",
    "    plt.plot(area)\n",
    "plt.plot([0,1000],[np.pi,np.pi])\n",
    "plt.xlim(0,1000)\n",
    "plt.ylim(1,5)"
   ]
  },
  {
   "cell_type": "code",
   "execution_count": 71,
   "metadata": {
    "collapsed": true
   },
   "outputs": [],
   "source": [
    "N = [100,1000,10000,100000,1000000,10000000]"
   ]
  },
  {
   "cell_type": "code",
   "execution_count": null,
   "metadata": {
    "collapsed": true
   },
   "outputs": [],
   "source": [
    "def clc_pi(N):\n",
    "    pydatax = (randarray(N,method=nprand))\n",
    "    pydatay = (randarray(N,method=nprand))\n",
    "    r=np.sqrt(pydatax[i]**2+pydatay[i]**2)\n",
    "    if r < 1:\n",
    "        counts_in = counts_in + 1\n",
    "    area[i]=(counts_in/(i+1))*4\n",
    "    \n",
    "#find std deviation\n",
    "#find N needed to get pi to 3 digits"
   ]
  }
 ],
 "metadata": {
  "kernelspec": {
   "display_name": "Python 3",
   "language": "python",
   "name": "python3"
  },
  "language_info": {
   "codemirror_mode": {
    "name": "ipython",
    "version": 3
   },
   "file_extension": ".py",
   "mimetype": "text/x-python",
   "name": "python",
   "nbconvert_exporter": "python",
   "pygments_lexer": "ipython3",
   "version": "3.4.4"
  }
 },
 "nbformat": 4,
 "nbformat_minor": 0
}
