{
 "cells": [
  {
   "cell_type": "markdown",
   "metadata": {},
   "source": [
    "# Minilab 1 - Jones Calculus\n",
    "This notebook demonstrates the use the Jones calculus and provides you with additional practice in IPython."
   ]
  },
  {
   "cell_type": "markdown",
   "metadata": {},
   "source": [
    "## Using QuTiP\n",
    "In order to move smoothly into the quantum mechanics of Chapter 3, we'll use QuTiP as our vector and matrix library from this point forward through the rest of the course."
   ]
  },
  {
   "cell_type": "code",
   "execution_count": 1,
   "metadata": {
    "collapsed": false
   },
   "outputs": [],
   "source": [
    "from qutip import *"
   ]
  },
  {
   "cell_type": "code",
   "execution_count": 7,
   "metadata": {
    "collapsed": false
   },
   "outputs": [
    {
     "data": {
      "text/latex": [
       "Quantum object: dims = [[1], [2]], shape = [1, 2], type = bra\\begin{equation*}\\left(\\begin{array}{*{11}c}1.0 & 2.0\\\\\\end{array}\\right)\\end{equation*}"
      ],
      "text/plain": [
       "Quantum object: dims = [[1], [2]], shape = [1, 2], type = bra\n",
       "Qobj data =\n",
       "[[ 1.  2.]]"
      ]
     },
     "execution_count": 7,
     "metadata": {},
     "output_type": "execute_result"
    }
   ],
   "source": [
    "# Create a row vector:\n",
    "rv = Qobj([[1,2]])\n",
    "rv"
   ]
  },
  {
   "cell_type": "code",
   "execution_count": 8,
   "metadata": {
    "collapsed": false
   },
   "outputs": [
    {
     "data": {
      "text/latex": [
       "Quantum object: dims = [[2], [1]], shape = [2, 1], type = ket\\begin{equation*}\\left(\\begin{array}{*{11}c}1.0\\\\2.0\\\\\\end{array}\\right)\\end{equation*}"
      ],
      "text/plain": [
       "Quantum object: dims = [[2], [1]], shape = [2, 1], type = ket\n",
       "Qobj data =\n",
       "[[ 1.]\n",
       " [ 2.]]"
      ]
     },
     "execution_count": 8,
     "metadata": {},
     "output_type": "execute_result"
    }
   ],
   "source": [
    "# Find the corresponding column vector\n",
    "rv.dag()"
   ]
  },
  {
   "cell_type": "code",
   "execution_count": 9,
   "metadata": {
    "collapsed": false
   },
   "outputs": [
    {
     "data": {
      "text/latex": [
       "Quantum object: dims = [[2], [1]], shape = [2, 1], type = ket\\begin{equation*}\\left(\\begin{array}{*{11}c}1.0\\\\4.0\\\\\\end{array}\\right)\\end{equation*}"
      ],
      "text/plain": [
       "Quantum object: dims = [[2], [1]], shape = [2, 1], type = ket\n",
       "Qobj data =\n",
       "[[ 1.]\n",
       " [ 4.]]"
      ]
     },
     "execution_count": 9,
     "metadata": {},
     "output_type": "execute_result"
    }
   ],
   "source": [
    "# Create a column vector:\n",
    "cv = Qobj([[1],[4]])\n",
    "cv"
   ]
  },
  {
   "cell_type": "code",
   "execution_count": 10,
   "metadata": {
    "collapsed": false
   },
   "outputs": [
    {
     "data": {
      "text/latex": [
       "Quantum object: dims = [[1], [2]], shape = [1, 2], type = bra\\begin{equation*}\\left(\\begin{array}{*{11}c}1.0 & 4.0\\\\\\end{array}\\right)\\end{equation*}"
      ],
      "text/plain": [
       "Quantum object: dims = [[1], [2]], shape = [1, 2], type = bra\n",
       "Qobj data =\n",
       "[[ 1.  4.]]"
      ]
     },
     "execution_count": 10,
     "metadata": {},
     "output_type": "execute_result"
    }
   ],
   "source": [
    "# Convert to a row vector:\n",
    "cv.dag()"
   ]
  },
  {
   "cell_type": "markdown",
   "metadata": {},
   "source": [
    "## Review: Vector products in QuTiP\n",
    "Only need to know one operator: \"\\*\"\n",
    "The product will depend on the order, either inner or outer"
   ]
  },
  {
   "cell_type": "code",
   "execution_count": 11,
   "metadata": {
    "collapsed": false
   },
   "outputs": [
    {
     "data": {
      "text/latex": [
       "Quantum object: dims = [[1], [1]], shape = [1, 1], type = oper, isherm = True\\begin{equation*}\\left(\\begin{array}{*{11}c}9.0\\\\\\end{array}\\right)\\end{equation*}"
      ],
      "text/plain": [
       "Quantum object: dims = [[1], [1]], shape = [1, 1], type = oper, isherm = True\n",
       "Qobj data =\n",
       "[[ 9.]]"
      ]
     },
     "execution_count": 11,
     "metadata": {},
     "output_type": "execute_result"
    }
   ],
   "source": [
    "rv*cv  # inner product (dot product)"
   ]
  },
  {
   "cell_type": "code",
   "execution_count": 12,
   "metadata": {
    "collapsed": false
   },
   "outputs": [
    {
     "data": {
      "text/latex": [
       "Quantum object: dims = [[1], [1]], shape = [1, 1], type = oper, isherm = True\\begin{equation*}\\left(\\begin{array}{*{11}c}5.0\\\\\\end{array}\\right)\\end{equation*}"
      ],
      "text/plain": [
       "Quantum object: dims = [[1], [1]], shape = [1, 1], type = oper, isherm = True\n",
       "Qobj data =\n",
       "[[ 5.]]"
      ]
     },
     "execution_count": 12,
     "metadata": {},
     "output_type": "execute_result"
    }
   ],
   "source": [
    "rv*rv.dag()  # dot product with itself, need row vector first"
   ]
  },
  {
   "cell_type": "code",
   "execution_count": 14,
   "metadata": {
    "collapsed": false
   },
   "outputs": [
    {
     "data": {
      "text/plain": [
       "2.23606797749979"
      ]
     },
     "execution_count": 14,
     "metadata": {},
     "output_type": "execute_result"
    }
   ],
   "source": [
    "rv.norm() # find the length of the vector"
   ]
  },
  {
   "cell_type": "code",
   "execution_count": 4,
   "metadata": {
    "collapsed": false
   },
   "outputs": [
    {
     "data": {
      "text/plain": [
       "2.2360679774997898"
      ]
     },
     "execution_count": 4,
     "metadata": {},
     "output_type": "execute_result"
    }
   ],
   "source": [
    "# verify that the norm of the vector is the square root of the dot product with itself:\n",
    "from numpy import sqrt\n",
    "sqrt(5)"
   ]
  },
  {
   "cell_type": "markdown",
   "metadata": {},
   "source": [
    "## Review: Matrix in QuTiP"
   ]
  },
  {
   "cell_type": "code",
   "execution_count": 19,
   "metadata": {
    "collapsed": false
   },
   "outputs": [
    {
     "data": {
      "text/latex": [
       "Quantum object: dims = [[2], [2]], shape = [2, 2], type = oper, isherm = True\\begin{equation*}\\left(\\begin{array}{*{11}c}1.0 & 2.0\\\\2.0 & 1.0\\\\\\end{array}\\right)\\end{equation*}"
      ],
      "text/plain": [
       "Quantum object: dims = [[2], [2]], shape = [2, 2], type = oper, isherm = True\n",
       "Qobj data =\n",
       "[[ 1.  2.]\n",
       " [ 2.  1.]]"
      ]
     },
     "execution_count": 19,
     "metadata": {},
     "output_type": "execute_result"
    }
   ],
   "source": [
    "qm = Qobj([[1,2],[2,1]])\n",
    "qm"
   ]
  },
  {
   "cell_type": "code",
   "execution_count": 20,
   "metadata": {
    "collapsed": false
   },
   "outputs": [
    {
     "data": {
      "text/plain": [
       "array([-1.,  3.])"
      ]
     },
     "execution_count": 20,
     "metadata": {},
     "output_type": "execute_result"
    }
   ],
   "source": [
    "qm.eigenenergies()  # in quantum (as we will learn) eigenvalues often correspond to energy levels"
   ]
  },
  {
   "cell_type": "code",
   "execution_count": 21,
   "metadata": {
    "collapsed": false
   },
   "outputs": [],
   "source": [
    "evals, evecs = qm.eigenstates()"
   ]
  },
  {
   "cell_type": "code",
   "execution_count": 22,
   "metadata": {
    "collapsed": false
   },
   "outputs": [
    {
     "data": {
      "text/plain": [
       "array([ Quantum object: dims = [[2], [1]], shape = [2, 1], type = ket\n",
       "Qobj data =\n",
       "[[-0.70710678]\n",
       " [ 0.70710678]],\n",
       "       Quantum object: dims = [[2], [1]], shape = [2, 1], type = ket\n",
       "Qobj data =\n",
       "[[ 0.70710678]\n",
       " [ 0.70710678]]], dtype=object)"
      ]
     },
     "execution_count": 22,
     "metadata": {},
     "output_type": "execute_result"
    }
   ],
   "source": [
    "evecs"
   ]
  },
  {
   "cell_type": "code",
   "execution_count": 23,
   "metadata": {
    "collapsed": false
   },
   "outputs": [
    {
     "data": {
      "text/latex": [
       "Quantum object: dims = [[2], [1]], shape = [2, 1], type = ket\\begin{equation*}\\left(\\begin{array}{*{11}c}-0.707\\\\0.707\\\\\\end{array}\\right)\\end{equation*}"
      ],
      "text/plain": [
       "Quantum object: dims = [[2], [1]], shape = [2, 1], type = ket\n",
       "Qobj data =\n",
       "[[-0.70710678]\n",
       " [ 0.70710678]]"
      ]
     },
     "execution_count": 23,
     "metadata": {},
     "output_type": "execute_result"
    }
   ],
   "source": [
    "# Select the first eigenvector using an index inside square brackets:\n",
    "# Index counting starts at zero so [0] picks the first one:\n",
    "evecs[0]"
   ]
  },
  {
   "cell_type": "markdown",
   "metadata": {},
   "source": [
    "# Activity for Lab:\n",
    "In order to solve the following problems, make use of these definitions for the various states of polarization and matrices for different devices:"
   ]
  },
  {
   "cell_type": "code",
   "execution_count": 5,
   "metadata": {
    "collapsed": false
   },
   "outputs": [],
   "source": [
    "# States:\n",
    "horiz = Qobj([[1],[0]])\n",
    "vert = Qobj([[0],[1]])\n",
    "p45 = 1/sqrt(2)*Qobj([[1],[1]])\n",
    "m45 = 1/sqrt(2)*Qobj([[1],[-1]])\n",
    "lcp = 1/sqrt(2)*Qobj([[1],[1j]])\n",
    "rcp = 1/sqrt(2)*Qobj([[1],[-1j]])\n",
    "\n",
    "# Operators:\n",
    "HP = Qobj([[1,0],[0,0]])\n",
    "VP = Qobj([[0,0],[0,1]])\n",
    "qwp_p45 = 1/sqrt(2)*Qobj([[1,-1j],[-1j,1]])\n",
    "qwp_m45 = 1/sqrt(2)*Qobj([[1,1j],[1j,1]])"
   ]
  },
  {
   "cell_type": "code",
   "execution_count": 39,
   "metadata": {
    "collapsed": false
   },
   "outputs": [
    {
     "data": {
      "text/latex": [
       "Quantum object: dims = [[2], [2]], shape = [2, 2], type = oper, isherm = True\\begin{equation*}\\left(\\begin{array}{*{11}c}1.0 & 0.0\\\\0.0 & 0.0\\\\\\end{array}\\right)\\end{equation*}"
      ],
      "text/plain": [
       "Quantum object: dims = [[2], [2]], shape = [2, 2], type = oper, isherm = True\n",
       "Qobj data =\n",
       "[[ 1.  0.]\n",
       " [ 0.  0.]]"
      ]
     },
     "execution_count": 39,
     "metadata": {},
     "output_type": "execute_result"
    }
   ],
   "source": [
    "# To display one of these, simply put it at the end of a cell:\n",
    "HP"
   ]
  },
  {
   "cell_type": "code",
   "execution_count": 40,
   "metadata": {
    "collapsed": false
   },
   "outputs": [
    {
     "data": {
      "text/latex": [
       "Quantum object: dims = [[2], [1]], shape = [2, 1], type = ket\\begin{equation*}\\left(\\begin{array}{*{11}c}0.707\\\\0.0\\\\\\end{array}\\right)\\end{equation*}"
      ],
      "text/plain": [
       "Quantum object: dims = [[2], [1]], shape = [2, 1], type = ket\n",
       "Qobj data =\n",
       "[[ 0.70710678]\n",
       " [ 0.        ]]"
      ]
     },
     "execution_count": 40,
     "metadata": {},
     "output_type": "execute_result"
    }
   ],
   "source": [
    "# An example calculation, the state of light after +45 polarization goes through a horizontal polarizer:\n",
    "HP*p45"
   ]
  },
  {
   "cell_type": "code",
   "execution_count": 9,
   "metadata": {
    "collapsed": false
   },
   "outputs": [
    {
     "data": {
      "text/latex": [
       "Quantum object: dims = [[2], [1]], shape = [2, 1], type = ket\\begin{equation*}\\left(\\begin{array}{*{11}c}0.707\\\\-0.707j\\\\\\end{array}\\right)\\end{equation*}"
      ],
      "text/plain": [
       "Quantum object: dims = [[2], [1]], shape = [2, 1], type = ket\n",
       "Qobj data =\n",
       "[[ 0.70710678+0.j        ]\n",
       " [ 0.00000000-0.70710678j]]"
      ]
     },
     "execution_count": 9,
     "metadata": {},
     "output_type": "execute_result"
    }
   ],
   "source": [
    "V = qwp_p45*horiz\n",
    "V"
   ]
  },
  {
   "cell_type": "markdown",
   "metadata": {},
   "source": [
    "## Problem 2.2"
   ]
  },
  {
   "cell_type": "code",
   "execution_count": 1,
   "metadata": {
    "collapsed": true
   },
   "outputs": [],
   "source": [
    "from numpy import *"
   ]
  },
  {
   "cell_type": "code",
   "execution_count": 46,
   "metadata": {
    "collapsed": false
   },
   "outputs": [
    {
     "data": {
      "text/latex": [
       "Quantum object: dims = [[2], [2]], shape = [2, 2], type = oper, isherm = False\\begin{equation*}\\left(\\begin{array}{*{11}c}1.000j & 0.0\\\\0.0 & -1.000\\\\\\end{array}\\right)\\end{equation*}"
      ],
      "text/plain": [
       "Quantum object: dims = [[2], [2]], shape = [2, 2], type = oper, isherm = False\n",
       "Qobj data =\n",
       "[[ 0.+1.j  0.+0.j]\n",
       " [ 0.+0.j -1.+0.j]]"
      ]
     },
     "execution_count": 46,
     "metadata": {},
     "output_type": "execute_result"
    }
   ],
   "source": [
    "#a)\n",
    "\n",
    "H= Qobj([[cos(deg2rad(45)), sin(deg2rad(45))], [sin(deg2rad(45)), -cos(deg2rad(45))]])\n",
    "Q= Qobj([[cos(deg2rad(90))**2+1j*sin(deg2rad(90))**2, (1-1j)*sin(deg2rad(90))*cos(deg2rad(90))],\n",
    "   [(1-1j)*sin(deg2rad(90))*cos(deg2rad(90)), sin(deg2rad(90))**2+1j*cos(deg2rad(90))**2]])\n",
    "\n",
    "\n",
    "M=qwp_m45*Q*H\n",
    "M"
   ]
  },
  {
   "cell_type": "code",
   "execution_count": 47,
   "metadata": {
    "collapsed": false
   },
   "outputs": [
    {
     "data": {
      "text/latex": [
       "Quantum object: dims = [[2], [1]], shape = [2, 1], type = ket\\begin{equation*}\\left(\\begin{array}{*{11}c}1.000j\\\\0.0\\\\\\end{array}\\right)\\end{equation*}"
      ],
      "text/plain": [
       "Quantum object: dims = [[2], [1]], shape = [2, 1], type = ket\n",
       "Qobj data =\n",
       "[[ 0.+1.j]\n",
       " [ 0.+0.j]]"
      ]
     },
     "execution_count": 47,
     "metadata": {},
     "output_type": "execute_result"
    }
   ],
   "source": [
    "#b)\n",
    "B = M * horiz\n",
    "B"
   ]
  },
  {
   "cell_type": "markdown",
   "metadata": {},
   "source": [
    "## Problem 2.4"
   ]
  },
  {
   "cell_type": "code",
   "execution_count": 35,
   "metadata": {
    "collapsed": false
   },
   "outputs": [
    {
     "data": {
      "text/latex": [
       "Quantum object: dims = [[2], [1]], shape = [2, 1], type = ket\\begin{equation*}\\left(\\begin{array}{*{11}c}(0.500-0.500j)\\\\(0.500+0.500j)\\\\\\end{array}\\right)\\end{equation*}"
      ],
      "text/plain": [
       "Quantum object: dims = [[2], [1]], shape = [2, 1], type = ket\n",
       "Qobj data =\n",
       "[[ 0.5-0.5j]\n",
       " [ 0.5+0.5j]]"
      ]
     },
     "execution_count": 35,
     "metadata": {},
     "output_type": "execute_result"
    }
   ],
   "source": [
    "N = H * rcp\n",
    "\n",
    "N"
   ]
  },
  {
   "cell_type": "markdown",
   "metadata": {},
   "source": [
    "## Problem 2.10"
   ]
  },
  {
   "cell_type": "code",
   "execution_count": 54,
   "metadata": {
    "collapsed": false
   },
   "outputs": [
    {
     "data": {
      "text/latex": [
       "Quantum object: dims = [[2], [2]], shape = [2, 2], type = oper, isherm = True\\begin{equation*}\\left(\\begin{array}{*{11}c}0.500 & -0.500j\\\\0.500j & 0.500\\\\\\end{array}\\right)\\end{equation*}"
      ],
      "text/plain": [
       "Quantum object: dims = [[2], [2]], shape = [2, 2], type = oper, isherm = True\n",
       "Qobj data =\n",
       "[[ 0.5+0.j   0.0-0.5j]\n",
       " [ 0.0+0.5j  0.5+0.j ]]"
      ]
     },
     "execution_count": 54,
     "metadata": {},
     "output_type": "execute_result"
    }
   ],
   "source": [
    "#a)\n",
    "P = qwp_m45 * HP * qwp_p45\n",
    "\n",
    "P"
   ]
  },
  {
   "cell_type": "code",
   "execution_count": 55,
   "metadata": {
    "collapsed": false
   },
   "outputs": [
    {
     "data": {
      "text/latex": [
       "Quantum object: dims = [[1], [1]], shape = [1, 1], type = oper, isherm = True\\begin{equation*}\\left(\\begin{array}{*{11}c}0.0\\\\\\end{array}\\right)\\end{equation*}"
      ],
      "text/plain": [
       "Quantum object: dims = [[1], [1]], shape = [1, 1], type = oper, isherm = True\n",
       "Qobj data =\n",
       "[[ 0.]]"
      ]
     },
     "execution_count": 55,
     "metadata": {},
     "output_type": "execute_result"
    }
   ],
   "source": [
    "#b)\n",
    "W = P * rcp\n",
    "E = B.dag() * W * B.norm() **2\n",
    "W\n",
    "E"
   ]
  },
  {
   "cell_type": "code",
   "execution_count": 53,
   "metadata": {
    "collapsed": false
   },
   "outputs": [
    {
     "data": {
      "text/latex": [
       "Quantum object: dims = [[1], [1]], shape = [1, 1], type = oper, isherm = True\\begin{equation*}\\left(\\begin{array}{*{11}c}0.0\\\\\\end{array}\\right)\\end{equation*}"
      ],
      "text/plain": [
       "Quantum object: dims = [[1], [1]], shape = [1, 1], type = oper, isherm = True\n",
       "Qobj data =\n",
       "[[ 0.]]"
      ]
     },
     "execution_count": 53,
     "metadata": {},
     "output_type": "execute_result"
    }
   ],
   "source": [
    "#C\n",
    "R = P * rcp\n",
    "T = B.dag() * W * B.norm() **2\n",
    "R\n",
    "T"
   ]
  },
  {
   "cell_type": "markdown",
   "metadata": {},
   "source": [
    "## Problem 2.11"
   ]
  },
  {
   "cell_type": "code",
   "execution_count": 48,
   "metadata": {
    "collapsed": false
   },
   "outputs": [
    {
     "data": {
      "text/latex": [
       "Quantum object: dims = [[2], [2]], shape = [2, 2], type = oper, isherm = True\\begin{equation*}\\left(\\begin{array}{*{11}c}0.500 & 0.500j\\\\-0.500j & 0.500\\\\\\end{array}\\right)\\end{equation*}"
      ],
      "text/plain": [
       "Quantum object: dims = [[2], [2]], shape = [2, 2], type = oper, isherm = True\n",
       "Qobj data =\n",
       "[[ 0.5+0.j   0.0+0.5j]\n",
       " [ 0.0-0.5j  0.5+0.j ]]"
      ]
     },
     "execution_count": 48,
     "metadata": {},
     "output_type": "execute_result"
    }
   ],
   "source": [
    "#a\n",
    "C = qwp_m45 * VP * qwp_p45\n",
    "\n",
    "C"
   ]
  },
  {
   "cell_type": "code",
   "execution_count": 58,
   "metadata": {
    "collapsed": false
   },
   "outputs": [
    {
     "data": {
      "text/plain": [
       "0.9999999999999998"
      ]
     },
     "execution_count": 58,
     "metadata": {},
     "output_type": "execute_result"
    }
   ],
   "source": [
    "#b\n",
    "u = C * rcp\n",
    "y = B.dag() * B.norm() **2\n",
    "y"
   ]
  },
  {
   "cell_type": "code",
   "execution_count": 57,
   "metadata": {
    "collapsed": false
   },
   "outputs": [
    {
     "data": {
      "text/latex": [
       "Quantum object: dims = [[1], [1]], shape = [1, 1], type = oper, isherm = False\\begin{equation*}\\left(\\begin{array}{*{11}c}-0.707j\\\\\\end{array}\\right)\\end{equation*}"
      ],
      "text/plain": [
       "Quantum object: dims = [[1], [1]], shape = [1, 1], type = oper, isherm = False\n",
       "Qobj data =\n",
       "[[ 0.-0.70710678j]]"
      ]
     },
     "execution_count": 57,
     "metadata": {},
     "output_type": "execute_result"
    }
   ],
   "source": [
    "#c\n",
    "I = C * rcp\n",
    "O = B.dag() * u * B.norm() **2\n",
    "O"
   ]
  },
  {
   "cell_type": "code",
   "execution_count": null,
   "metadata": {
    "collapsed": true
   },
   "outputs": [],
   "source": []
  }
 ],
 "metadata": {
  "kernelspec": {
   "display_name": "Python 3",
   "language": "python",
   "name": "python3"
  },
  "language_info": {
   "codemirror_mode": {
    "name": "ipython",
    "version": 3
   },
   "file_extension": ".py",
   "mimetype": "text/x-python",
   "name": "python",
   "nbconvert_exporter": "python",
   "pygments_lexer": "ipython3",
   "version": "3.4.4"
  }
 },
 "nbformat": 4,
 "nbformat_minor": 0
}
