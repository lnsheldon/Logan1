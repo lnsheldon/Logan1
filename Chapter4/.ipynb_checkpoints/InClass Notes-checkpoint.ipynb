{
 "cells": [
  {
   "cell_type": "markdown",
   "metadata": {},
   "source": [
    "# InClass 2-15-16\n",
    "In class notes from Feb 15, 2016"
   ]
  },
  {
   "cell_type": "code",
   "execution_count": 12,
   "metadata": {
    "collapsed": false
   },
   "outputs": [
    {
     "name": "stdout",
     "output_type": "stream",
     "text": [
      "Populating the interactive namespace from numpy and matplotlib\n"
     ]
    }
   ],
   "source": [
    "%pylab inline"
   ]
  },
  {
   "cell_type": "code",
   "execution_count": 47,
   "metadata": {
    "collapsed": false
   },
   "outputs": [],
   "source": [
    "total_time = 5\n",
    "N = 50\n",
    "dt = total_time / N\n",
    "x0 = 20\n",
    "v0 = 10\n",
    "a = -9.8\n",
    "b = 0.003\n",
    "x = zeros(N)\n",
    "v = zeros(N)\n",
    "x[0] = x0\n",
    "v[0] = v0\n",
    "times = array([dt*i for i in range(N)])\n",
    "\n",
    "xke = [x0 + v0*t + 0.5*a*t**2 for t in times]"
   ]
  },
  {
   "cell_type": "code",
   "execution_count": 51,
   "metadata": {
    "collapsed": false
   },
   "outputs": [],
   "source": [
    "for i in range(N-1):\n",
    "    x[i+1] = x[i] + v[i]*dt\n",
    "    #v[i+1] = v[i] + a*dt - sign(v[i])*(b*v[i]**2)  #  Use this for Air resistance\n",
    "    v[i+1] = v[i] + a*dt"
   ]
  },
  {
   "cell_type": "code",
   "execution_count": 53,
   "metadata": {
    "collapsed": false
   },
   "outputs": [
    {
     "data": {
      "text/plain": [
       "<matplotlib.legend.Legend at 0x10e1d2fd0>"
      ]
     },
     "execution_count": 53,
     "metadata": {},
     "output_type": "execute_result"
    },
    {
     "data": {
      "image/png": "[encoded data removed]",
      "text/plain": [
       "<matplotlib.figure.Figure at 0x10e0e8ac8>"
      ]
     },
     "metadata": {},
     "output_type": "display_data"
    }
   ],
   "source": [
    "plot(times,x,\".\",label=\"position\")\n",
    "plot(times,v,\".\",label=\"velocity\")\n",
    "plot(times,xke,label=\"KE\")\n",
    "legend()"
   ]
  },
  {
   "cell_type": "code",
   "execution_count": null,
   "metadata": {
    "collapsed": true
   },
   "outputs": [],
   "source": []
  },
  {
   "cell_type": "code",
   "execution_count": null,
   "metadata": {
    "collapsed": true
   },
   "outputs": [],
   "source": []
  }
 ],
 "metadata": {
  "kernelspec": {
   "display_name": "Python 3",
   "language": "python",
   "name": "python3"
  },
  "language_info": {
   "codemirror_mode": {
    "name": "ipython",
    "version": 3
   },
   "file_extension": ".py",
   "mimetype": "text/x-python",
   "name": "python",
   "nbconvert_exporter": "python",
   "pygments_lexer": "ipython3",
   "version": "3.4.4"
  }
 },
 "nbformat": 4,
 "nbformat_minor": 0
}
